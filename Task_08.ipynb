{
  "nbformat": 4,
  "nbformat_minor": 0,
  "metadata": {
    "colab": {
      "provenance": [],
      "authorship_tag": "ABX9TyN3SzCadhm1ZUd/A6D6jF/I",
      "include_colab_link": true
    },
    "kernelspec": {
      "name": "python3",
      "display_name": "Python 3"
    },
    "language_info": {
      "name": "python"
    }
  },
  "cells": [
    {
      "cell_type": "markdown",
      "metadata": {
        "id": "view-in-github",
        "colab_type": "text"
      },
      "source": [
        "<a href=\"https://colab.research.google.com/github/unssy/hello-colab/blob/main/Task_08.ipynb\" target=\"_parent\"><img src=\"https://colab.research.google.com/assets/colab-badge.svg\" alt=\"Open In Colab\"/></a>"
      ]
    },
    {
      "cell_type": "code",
      "execution_count": 2,
      "metadata": {
        "id": "RqWZ6cDPY_9L"
      },
      "outputs": [],
      "source": [
        "import sqlite3\n",
        "import datetime\n",
        "import requests\n",
        "import json"
      ]
    },
    {
      "cell_type": "code",
      "source": [
        "\n",
        "conn = sqlite3.connect('example.db')\n",
        "c = conn.cursor()\n",
        "\n",
        "# 新增且清空資料表\n",
        "c.execute('''CREATE TABLE IF NOT EXISTS pharmacies\n",
        "             (city text, counts text, createdAt datetime)''')\n",
        "c.execute('''DELETE FROM pharmacies''')\n",
        "conn.commit()\n",
        "\n",
        "# 新增資料\n",
        "url = \"https://raw.githubusercontent.com/kiang/pharmacies/master/json/points.json\"\n",
        "response = requests.get(url)\n",
        "d = response.text\n",
        "data = json.loads(d)\n",
        "\n",
        "# 整理資料\n",
        "med_count = {}\n",
        "for d in data[\"features\"]:\n",
        "    county = d[\"properties\"][\"address\"][0:3]\n",
        "    med_count[county] = med_count.get(county, 0) + 1\n",
        "\n",
        "# 將資料存入 database\n",
        "for city, counts in med_count.items():\n",
        "    t = datetime.datetime.now()\n",
        "    c.execute(f\"INSERT INTO pharmacies VALUES ('{city}', {counts}, '{t}')\")\n",
        "    conn.commit()\n",
        "\n",
        "# 查詢資料\n",
        "c.execute(\"SELECT * FROM pharmacies\")\n",
        "print(c.fetchall())\n",
        "conn.commit()\n",
        "conn.close()\n",
        "\n"
      ],
      "metadata": {
        "colab": {
          "base_uri": "https://localhost:8080/"
        },
        "id": "dLSSkjPYZKOw",
        "outputId": "d74b556e-fc94-42ec-bb94-536d65eedeba"
      },
      "execution_count": 4,
      "outputs": [
        {
          "output_type": "stream",
          "name": "stdout",
          "text": [
            "[('臺北市', '340', '2023-04-06 07:32:44.254663'), ('高雄市', '424', '2023-04-06 07:32:44.263445'), ('臺中市', '436', '2023-04-06 07:32:44.273182'), ('臺南市', '280', '2023-04-06 07:32:44.282725'), ('基隆市', '57', '2023-04-06 07:32:44.293674'), ('新竹市', '39', '2023-04-06 07:32:44.304740'), ('嘉義市', '67', '2023-04-06 07:32:44.314783'), ('新北市', '507', '2023-04-06 07:32:44.324242'), ('桃園市', '271', '2023-04-06 07:32:44.334241'), ('新竹縣', '48', '2023-04-06 07:32:44.343496'), ('宜蘭縣', '76', '2023-04-06 07:32:44.352325'), ('苗栗縣', '57', '2023-04-06 07:32:44.361113'), ('彰化縣', '181', '2023-04-06 07:32:44.370116'), ('南投縣', '67', '2023-04-06 07:32:44.380042'), ('雲林縣', '131', '2023-04-06 07:32:44.389232'), ('嘉義縣', '84', '2023-04-06 07:32:44.396983'), ('屏東縣', '140', '2023-04-06 07:32:44.405076'), ('澎湖縣', '11', '2023-04-06 07:32:44.414409'), ('花蓮縣', '47', '2023-04-06 07:32:44.423241'), ('臺東縣', '23', '2023-04-06 07:32:44.433041'), ('金門縣', '6', '2023-04-06 07:32:44.442510'), ('連江縣', '1', '2023-04-06 07:32:44.450558')]\n"
          ]
        }
      ]
    },
    {
      "cell_type": "code",
      "source": [
        "conn = sqlite3.connect('example.db')\n",
        "c = conn.cursor()\n",
        "\n",
        "# 新增且清空資料表\n",
        "c.execute('''CREATE TABLE IF NOT EXISTS masks\n",
        "             (city text, mask_remain text, createdAt datetime)''')\n",
        "c.execute('''DELETE FROM masks''')\n",
        "conn.commit()\n",
        "\n",
        "# 整理資料\n",
        "mask_count = {}\n",
        "for d in data[\"features\"]:\n",
        "    county = d[\"properties\"][\"address\"][0:3]\n",
        "    mask_count[county] = mask_count.get(county, 0) + d[\"properties\"][\"mask_adult\"]\n",
        "\n",
        "# 將資料存入 database    \n",
        "for city, counts in mask_count.items():\n",
        "  t = datetime.datetime.now()\n",
        "  c.execute(f\"INSERT INTO masks VALUES ('{city}', {counts}, '{t}')\")\n",
        "  conn.commit()\n",
        "\n",
        "# 查詢資料\n",
        "c.execute(\"SELECT * FROM masks\")\n",
        "print(c.fetchall())\n",
        "conn.commit()\n",
        "conn.close()"
      ],
      "metadata": {
        "colab": {
          "base_uri": "https://localhost:8080/"
        },
        "id": "CckWrkc4e5jp",
        "outputId": "fa588565-588d-4ca8-ebbe-9abbab8f8f77"
      },
      "execution_count": 5,
      "outputs": [
        {
          "output_type": "stream",
          "name": "stdout",
          "text": [
            "[('臺北市', '323660', '2023-04-06 07:33:36.226972'), ('高雄市', '428940', '2023-04-06 07:33:36.234586'), ('臺中市', '556440', '2023-04-06 07:33:36.242372'), ('臺南市', '408400', '2023-04-06 07:33:36.250831'), ('基隆市', '80100', '2023-04-06 07:33:36.258842'), ('新竹市', '45630', '2023-04-06 07:33:36.267515'), ('嘉義市', '107840', '2023-04-06 07:33:36.276459'), ('新北市', '677660', '2023-04-06 07:33:36.284458'), ('桃園市', '345600', '2023-04-06 07:33:36.292829'), ('新竹縣', '53760', '2023-04-06 07:33:36.302559'), ('宜蘭縣', '106900', '2023-04-06 07:33:36.312849'), ('苗栗縣', '134180', '2023-04-06 07:33:36.322165'), ('彰化縣', '219400', '2023-04-06 07:33:36.332620'), ('南投縣', '91240', '2023-04-06 07:33:36.343955'), ('雲林縣', '199470', '2023-04-06 07:33:36.353131'), ('嘉義縣', '113180', '2023-04-06 07:33:36.362695'), ('屏東縣', '184250', '2023-04-06 07:33:36.372762'), ('澎湖縣', '12600', '2023-04-06 07:33:36.382468'), ('花蓮縣', '57330', '2023-04-06 07:33:36.391973'), ('臺東縣', '28510', '2023-04-06 07:33:36.400435'), ('金門縣', '15510', '2023-04-06 07:33:36.408865'), ('連江縣', '7930', '2023-04-06 07:33:36.417424')]\n"
          ]
        }
      ]
    }
  ]
}